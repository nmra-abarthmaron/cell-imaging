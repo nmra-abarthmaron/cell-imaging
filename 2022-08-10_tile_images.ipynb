{
 "cells": [
  {
   "cell_type": "code",
   "execution_count": null,
   "id": "9dc44215-00e8-419d-ad44-818e0c6a67af",
   "metadata": {},
   "outputs": [],
   "source": [
    "from skimage.io import imread\n",
    "import matplotlib.pyplot as plt\n",
    "import os"
   ]
  },
  {
   "cell_type": "code",
   "execution_count": null,
   "id": "b732de60-e9ce-4294-a163-e212fb56ccc0",
   "metadata": {},
   "outputs": [],
   "source": [
    "# Set folder and file paths\n",
    "parent_dir = '/Users/asa.barthmaron/Documents/2022-08-09_iN_dye_controls_analysis/masks/'\n",
    "\n",
    "# Names for thresholding methods, note that sauvola is only applicable to adaptive methods\n",
    "threshold_methods = ['sauvola',\n",
    "                     'min_cross_entropy',\n",
    "                     'otsu_two_class',\n",
    "                     'otsu_three_class_background',\n",
    "                     'otsu_three_class_foreground',\n",
    "                     'robust_background_default_opts']\n",
    "\n",
    "# Names for thresholding strategies\n",
    "threshold_strategy = ['Global', 'Adaptive', 'Adaptive_25']\n",
    "\n",
    "prefix = '561 TMRM-'"
   ]
  },
  {
   "cell_type": "code",
   "execution_count": null,
   "id": "5cba5133-e84b-4776-ac9e-21020e29d88d",
   "metadata": {},
   "outputs": [],
   "source": [
    "n_thresh = len(threshold_methods)\n",
    "n_strat = len(threshold_strategy)\n",
    "n_images = 24 # Hard coding this, locked to plate size\n",
    "\n",
    "plt.rcParams[\"figure.figsize\"] = (20,40)\n",
    "for i_image in range(n_images):\n",
    "    fig, ax = plt.subplots(6,3)\n",
    "    for i_strat in range(n_strat):\n",
    "        for i_thresh in range(n_thresh):\n",
    "\n",
    "            if i_strat == 0 and i_thresh == 0:\n",
    "                # Show original image, set max as half of actual pixel value max (empirically, it works reasonably well)\n",
    "                img = imread('/Users/asa.barthmaron/Documents/220803 BC images for ABM/20x TIFs, MIPs/561 TMRM/561 TMRM-' + str(i_image+1).zfill(4) + '.tif')\n",
    "                ax[i_thresh, i_strat].imshow(img, cmap='gray', vmax=img.max()/2)\n",
    "                ax[i_thresh, i_strat].axis('off')\n",
    "                ax[i_thresh, i_strat].set_title('original img', fontsize=28)\n",
    "            else:\n",
    "                # Load threshold image\n",
    "                # In some cases a hidden character '\\x1b' was being added to the beginning of suffix, so I added some kludgey code to handle that\n",
    "                try:\n",
    "                    file_name = prefix + str(i_image+1).zfill(4) + '\\x1b_' + threshold_methods[i_thresh] + '.tiff'\n",
    "                    folder_name = os.path.join(parent_dir,\n",
    "                                           threshold_strategy[i_strat],\n",
    "                                           threshold_methods[i_thresh])\n",
    "                    img = imread(os.path.join(folder_name, file_name))\n",
    "                except:\n",
    "                    file_name = prefix + str(i_image+1).zfill(4) + '_' + threshold_methods[i_thresh] + '.tiff'\n",
    "                    folder_name = os.path.join(parent_dir,\n",
    "                                               threshold_strategy[i_strat],\n",
    "                                               threshold_methods[i_thresh])\n",
    "                    img = imread(os.path.join(folder_name, file_name))\n",
    "                \n",
    "                # Plot image\n",
    "                ax[i_thresh, i_strat].imshow(img, cmap='gray')\n",
    "                ax[i_thresh, i_strat].axis('off')\n",
    "                ax[i_thresh, i_strat].set_title(threshold_methods[i_thresh], fontsize=28)\n",
    "    \n",
    "    # Label and save\n",
    "    fig.suptitle(str(i_image+1).zfill(4), fontsize=40)\n",
    "    plt.subplots_adjust(left = 0, right = 1, top = 0.95, bottom = 0, wspace=0.0002, hspace=0.1)\n",
    "    plt.savefig(os.path.join(parent_dir, '2022-08-10_threshold_comp_' + str(i_image+1).zfill(4) + '.tiff'))\n",
    "    close()"
   ]
  }
 ],
 "metadata": {
  "kernelspec": {
   "display_name": "Python 3.9.12 ('cell-imaging-test')",
   "language": "python",
   "name": "python3"
  },
  "language_info": {
   "codemirror_mode": {
    "name": "ipython",
    "version": 3
   },
   "file_extension": ".py",
   "mimetype": "text/x-python",
   "name": "python",
   "nbconvert_exporter": "python",
   "pygments_lexer": "ipython3",
   "version": "3.9.12"
  },
  "vscode": {
   "interpreter": {
    "hash": "99acc9569ed8ea8dc9faa41d28611f6099b8bbd26169b4e54249dea42de9b849"
   }
  }
 },
 "nbformat": 4,
 "nbformat_minor": 5
}
