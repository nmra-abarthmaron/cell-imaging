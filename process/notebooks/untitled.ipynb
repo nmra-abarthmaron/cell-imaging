{
 "cells": [
  {
   "cell_type": "code",
   "execution_count": 2,
   "metadata": {},
   "outputs": [],
   "source": [
    "from utility.max_project import write_image_qc_stack, write_segmentation_qc_stack\n",
    "from pathlib import Path"
   ]
  },
  {
   "cell_type": "code",
   "execution_count": 8,
   "metadata": {},
   "outputs": [],
   "source": [
    "dirs = [\n",
    "    Path('/lab/raw-data/TDP43_ALS0013_NGN2_KO1_20x_DIV18_2023-04-10/TDP43_ALS0013_NGN2_KO1_20x_DIV18_2023-04-10__2023-04-10T13_51_46-Measurement 1/'),\n",
    "    Path('/lab/raw-data/TDP43_ALS0013_NGN2_KO1_20x_DIV25_2023-04-11/TDP43_ALS0013_NGN2_KO1_20x_DIV25_2023-04-11__2023-04-11T17_22_35-Measurement 1/'),\n",
    "    Path('/lab/raw-data/TDP43_ALS0014_NGN2_KO1_20x_DIV11_2023-03-31/DIV11 NGN2 488TDP43 594MAP2__2023-03-31T16_47_11-Measurement 1/'),\n",
    "    # Path('/lab/raw-data/TDP43_ALS0014_NGN2_KO1_20x_DIV18_2023-04-07/TDP43_ALS0014_NGN2_KO1_20x_DIV18_2023-04-07__2023-04-07T14_10_50-Measurement 2/'),\n",
    "    # Path('/lab/raw-data/TDP43_ALS0015_NGN2_KO1_20x_DIV11_2023-04-05/TDP43_ALS0015_NGN2_KO1_20x_DIV11_2023-04-05__2023-04-05T14_46_22-Measurement 1/'),\n",
    "    Path('/lab/raw-data/TDP43_ALS0017_NGN2_KO1_20x_DIV11_2023-04-13/TDP43_ALS0017_NGN2_KO1_20x_DIV11_2023-04-13__2023-04-13T11_35_09-Measurement 2/'),\n",
    "    Path('/lab/raw-data/TDP43_ALS0017_NGN2_KO1_20x_DIV18_2023-04-14/TDP43_ALS0017_NGN2_KO1_20x_DIV18_2023-04-14__2023-04-14T12_32_04-Measurement 1/'),\n",
    "    Path('/lab/raw-data/TDP43_ALS0018_NGN2_KO1_20x_DIV11_2023-04-12/TDP43_ALS0018_NGN2_KO1_20x_DIV11_2023-04-12__2023-04-12T17_40_03-Measurement 1/'),\n",
    "    Path('/lab/raw-data/TDP43_ALS0009_DIV18_KO_MG132/ALS0009_DIV18_20230320_AH__2023-03-20T11_16_36-Measurement 1/'),\n",
    "    Path('/lab/raw-data/TDP43_ALS0009_DIV18_KO_MG132/TDP43_ALS0009_KO1_DIV18_v1__2023-03-14T10_55_23-Measurement 1/'),\n",
    "    Path('/lab/raw-data/TDP43_ALS0013_DIV11_KO_MG132/DIV11 v1__2023-03-15T09_33_32-Measurement 1/'),\n",
    "    \n",
    "]\n",
    "\n",
    "# raw_data_dir = dirs[1:]\n",
    "for raw_data_dir in dirs[3:]:\n",
    "    analysis_name = '2023-04-11_cellpose_tdp-43'\n",
    "\n",
    "    filenames = ['FileName_DAPI', 'FileName_TDP43', 'FileName_MAP2']\n",
    "    for f in filenames:\n",
    "        write_image_qc_stack(raw_data_dir, filename=f, analysis_name=analysis_name)\n",
    "\n",
    "    filename = 'FileName_soma_outlines'\n",
    "    seg_name = 'soma_outlines'\n",
    "    write_segmentation_qc_stack(raw_data_dir, filename, analysis_name, seg_name)\n",
    "\n",
    "    filename = 'FileName_nuclei_outlines'\n",
    "    seg_name = 'nuclei_outlines'\n",
    "    write_segmentation_qc_stack(raw_data_dir, filename, analysis_name, seg_name)"
   ]
  },
  {
   "cell_type": "code",
   "execution_count": 7,
   "metadata": {},
   "outputs": [
    {
     "data": {
      "text/plain": [
       "[PosixPath('/lab/raw-data/TDP43_ALS0017_NGN2_KO1_20x_DIV11_2023-04-13/TDP43_ALS0017_NGN2_KO1_20x_DIV11_2023-04-13__2023-04-13T11_35_09-Measurement 2'),\n",
       " PosixPath('/lab/raw-data/TDP43_ALS0017_NGN2_KO1_20x_DIV18_2023-04-14/TDP43_ALS0017_NGN2_KO1_20x_DIV18_2023-04-14__2023-04-14T12_32_04-Measurement 1'),\n",
       " PosixPath('/lab/raw-data/TDP43_ALS0018_NGN2_KO1_20x_DIV11_2023-04-12/TDP43_ALS0018_NGN2_KO1_20x_DIV11_2023-04-12__2023-04-12T17_40_03-Measurement 1')]"
      ]
     },
     "execution_count": 7,
     "metadata": {},
     "output_type": "execute_result"
    }
   ],
   "source": [
    "dirs = [\n",
    "    Path('/lab/raw-data/TDP43_ALS0013_NGN2_KO1_20x_DIV18_2023-04-10/TDP43_ALS0013_NGN2_KO1_20x_DIV18_2023-04-10__2023-04-10T13_51_46-Measurement 1/'),\n",
    "    Path('/lab/raw-data/TDP43_ALS0013_NGN2_KO1_20x_DIV25_2023-04-11/TDP43_ALS0013_NGN2_KO1_20x_DIV25_2023-04-11__2023-04-11T17_22_35-Measurement 1/'),\n",
    "    Path('/lab/raw-data/TDP43_ALS0014_NGN2_KO1_20x_DIV11_2023-03-31/DIV11 NGN2 488TDP43 594MAP2__2023-03-31T16_47_11-Measurement 1/'),\n",
    "    # Path('/lab/raw-data/TDP43_ALS0014_NGN2_KO1_20x_DIV18_2023-04-07/TDP43_ALS0014_NGN2_KO1_20x_DIV18_2023-04-07__2023-04-07T14_10_50-Measurement 2/'),\n",
    "    # Path('/lab/raw-data/TDP43_ALS0015_NGN2_KO1_20x_DIV11_2023-04-05/TDP43_ALS0015_NGN2_KO1_20x_DIV11_2023-04-05__2023-04-05T14_46_22-Measurement 1/'),\n",
    "    Path('/lab/raw-data/TDP43_ALS0017_NGN2_KO1_20x_DIV11_2023-04-13/TDP43_ALS0017_NGN2_KO1_20x_DIV11_2023-04-13__2023-04-13T11_35_09-Measurement 2/'),\n",
    "    Path('/lab/raw-data/TDP43_ALS0017_NGN2_KO1_20x_DIV18_2023-04-14/TDP43_ALS0017_NGN2_KO1_20x_DIV18_2023-04-14__2023-04-14T12_32_04-Measurement 1/'),\n",
    "    Path('/lab/raw-data/TDP43_ALS0018_NGN2_KO1_20x_DIV11_2023-04-12/TDP43_ALS0018_NGN2_KO1_20x_DIV11_2023-04-12__2023-04-12T17_40_03-Measurement 1/')\n",
    "]\n",
    "dirs[3:]"
   ]
  },
  {
   "cell_type": "code",
   "execution_count": 2,
   "metadata": {},
   "outputs": [],
   "source": [
    "dirs = [Path('/lab/raw-data/ALS0006_NGN2_DIV11_KOv1_MG132/DIV11__2023-02-15T11_31_26-Measurement 1'),\n",
    "    Path('/lab/raw-data/ALS0006_NGN2_DIV18_KOv1_MG132/DIV18__2023-02-24T08_47_12-Measurement 1'),\n",
    "    Path('/lab/raw-data/ALS0006_KO01_TDP43_20X/ALS0006_KO01_TDP43_20X_01__2023-03-08T11_11_56-Measurement 1/')]"
   ]
  },
  {
   "cell_type": "code",
   "execution_count": 8,
   "metadata": {},
   "outputs": [],
   "source": [
    "raw_data_dir = dirs[1]\n",
    "analysis_name = '2023-02-17_tdp43seg_tdp-43'\n",
    "\n",
    "filenames = ['FileName_DAPI', 'FileName_TDP43', 'FileName_MAP2']\n",
    "for f in filenames:\n",
    "    write_image_qc_stack(raw_data_dir, filename=f, analysis_name=analysis_name)\n",
    "\n",
    "filename = 'FileName_soma_outlines'\n",
    "seg_name = 'soma_outlines'\n",
    "write_segmentation_qc_stack(raw_data_dir, filename, analysis_name, seg_name)\n",
    "\n",
    "filename = 'FileName_nuclei_outlines'\n",
    "seg_name = 'nuclei_outlines'\n",
    "write_segmentation_qc_stack(raw_data_dir, filename, analysis_name, seg_name)"
   ]
  },
  {
   "cell_type": "code",
   "execution_count": 9,
   "metadata": {},
   "outputs": [],
   "source": [
    "raw_data_dir = dirs[2]\n",
    "analysis_name = '2023-02-17_tdp43seg_tdp-43'\n",
    "\n",
    "filenames = ['FileName_DAPI', 'FileName_TDP43', 'FileName_MAP2']\n",
    "for f in filenames:\n",
    "    write_image_qc_stack(raw_data_dir, filename=f, analysis_name=analysis_name)\n",
    "\n",
    "filename = 'FileName_soma_outlines'\n",
    "seg_name = 'soma_outlines'\n",
    "write_segmentation_qc_stack(raw_data_dir, filename, analysis_name, seg_name)\n",
    "\n",
    "filename = 'FileName_nuclei_outlines'\n",
    "seg_name = 'nuclei_outlines'\n",
    "write_segmentation_qc_stack(raw_data_dir, filename, analysis_name, seg_name)"
   ]
  },
  {
   "cell_type": "code",
   "execution_count": 10,
   "metadata": {},
   "outputs": [],
   "source": [
    "analysis_name = '2023-03-27_cellpose_tdp-43'\n",
    "for raw_data_dir in dirs:\n",
    "    filename = 'FileName_soma_outlines'\n",
    "    seg_name = 'soma_outlines'\n",
    "    write_segmentation_qc_stack(raw_data_dir, filename, analysis_name, seg_name)\n",
    "\n",
    "    filename = 'FileName_nuclei_outlines'\n",
    "    seg_name = 'nuclei_outlines'\n",
    "    write_segmentation_qc_stack(raw_data_dir, filename, analysis_name, seg_name)"
   ]
  },
  {
   "cell_type": "code",
   "execution_count": 13,
   "metadata": {},
   "outputs": [],
   "source": [
    "analysis_name = '2023-03-27_cellpose_tdp-43'\n",
    "raw_data_dir = dirs[0]\n",
    "filename = 'FileName_soma_outlines'\n",
    "seg_name = 'soma_outlines'\n",
    "write_segmentation_qc_stack(raw_data_dir, filename, analysis_name, seg_name)\n",
    "\n",
    "filename = 'FileName_nuclei_outlines'\n",
    "seg_name = 'nuclei_outlines'\n",
    "write_segmentation_qc_stack(raw_data_dir, filename, analysis_name, seg_name)"
   ]
  }
 ],
 "metadata": {
  "kernelspec": {
   "display_name": "cell-imaging-2",
   "language": "python",
   "name": "python3"
  },
  "language_info": {
   "codemirror_mode": {
    "name": "ipython",
    "version": 3
   },
   "file_extension": ".py",
   "mimetype": "text/x-python",
   "name": "python",
   "nbconvert_exporter": "python",
   "pygments_lexer": "ipython3",
   "version": "3.8.13"
  },
  "orig_nbformat": 4
 },
 "nbformat": 4,
 "nbformat_minor": 2
}
