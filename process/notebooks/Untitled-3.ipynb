{
 "cells": [
  {
   "cell_type": "code",
   "execution_count": 1,
   "metadata": {},
   "outputs": [],
   "source": [
    "import skimage.io\n",
    "import numpy as np\n",
    "import pathlib\n",
    "import pandas as pd\n",
    "import tifffile\n",
    "import matplotlib.pyplot as plt\n",
    "import PIL"
   ]
  },
  {
   "cell_type": "code",
   "execution_count": 16,
   "metadata": {},
   "outputs": [],
   "source": [
    "data_dir = pathlib.Path('/lab/processed-data/220929 BC-EG H4 GBA Substrate')\n",
    "# pm = pd.read_csv('/lab/processed-data/EXP_JSM002_NGN2_DIV25_wholeplate/platemap.csv')\n",
    "pm = pd.read_csv(data_dir / '2022-11-22_edyta_analysis' / '2022-11-23_cellpose_cyto2_Image.csv')\n",
    "# pm['filename'] = pm['FileName_GCase']\n",
    "pm['filename'] = pm['FileName_LysoTracker']\n",
    "img_dir = 'max_projections'\n",
    "# img_dir = '2022-11-22_edyta_analysis/soma_outlines'"
   ]
  },
  {
   "cell_type": "code",
   "execution_count": 17,
   "metadata": {},
   "outputs": [],
   "source": [
    "img_stack = np.zeros((pm.shape[0], 1024, 1024))\n",
    "img_stack = img_stack.astype('uint16')\n",
    "for i_file, file in enumerate(pm['filename']):\n",
    "    # tif = skimage.io.imread(data_dir / img_dir / (file + 'f'))\n",
    "    tif = skimage.io.imread(data_dir / img_dir / (file))\n",
    "    img_stack[i_file, :, :] = tif\n",
    "# img_stack \n",
    "# tifffile.imwrite(data_dir / ('2022-11-22_edyta_analysis_soma_outlines.tiff'), img_stack, metadata={'axes': 'ZYX'}, imagej=True, compression='lzw', dtype='uint16')\n",
    "tifffile.imwrite(data_dir / ('max_projections_LysoTracker.tiff'), img_stack, metadata={'axes': 'ZYX'}, imagej=True, compression='lzw', dtype='uint16')"
   ]
  },
  {
   "cell_type": "code",
   "execution_count": null,
   "metadata": {},
   "outputs": [],
   "source": [
    "data_dir = pathlib.Path('/lab/processed-data/EXP_JSM002_NGN2_DIV25_wholeplate')\n",
    "# pm = pd.read_csv('/lab/processed-data/EXP_JSM002_NGN2_DIV25_wholeplate/platemap.csv')\n",
    "pm = pd.read_csv(data_dir / '2022-12-12_tdp43_analysis'/'2022-12-12_tdp43_analysisImage.csv')\n",
    "pm['filename'] = pm['FileName_TDP43']\n",
    "img_dir = 'max_projections'\n",
    "# img_dir = '2022-12-12_tdp43_analysis/soma_outlines'"
   ]
  },
  {
   "cell_type": "code",
   "execution_count": null,
   "metadata": {},
   "outputs": [],
   "source": [
    "img_stack = np.zeros((pm.shape[0], 1024, 1024))\n",
    "img_stack = img_stack.astype('uint16')\n",
    "for i_file, file in enumerate(pm['filename']):\n",
    "    # tif = skimage.io.imread(data_dir / img_dir / (file + 'f'))\n",
    "    tif = skimage.io.imread(data_dir / img_dir / (file))\n",
    "    img_stack[i_file, :, :] = tif\n",
    "# img_stack \n",
    "# tifffile.imwrite(data_dir / ('2022-12-12_tdp43_analysis_soma_outlines.tiff'), img_stack, metadata={'axes': 'ZYX'}, imagej=True, compression='lzw', dtype='uint16')\n",
    "tifffile.imwrite(data_dir / ('max_projections.tiff'), img_stack, metadata={'axes': 'ZYX'}, imagej=True, compression='lzw', dtype='uint16')"
   ]
  },
  {
   "cell_type": "code",
   "execution_count": 5,
   "metadata": {},
   "outputs": [],
   "source": [
    "data_dir = pathlib.Path('/lab/processed-data/221121_45_Gene_KO_Screen')\n",
    "pm = pd.read_csv('/lab/processed-data/221121_45_Gene_KO_Screen/platemap.csv')\n",
    "# img_dir = 'max_projections'\n",
    "img_dir = '2022-12-15_soma_segment/soma_mask'"
   ]
  },
  {
   "cell_type": "code",
   "execution_count": 8,
   "metadata": {},
   "outputs": [],
   "source": [
    "img_stack = np.zeros((pm.shape[0], 1024, 1024))\n",
    "img_stack = img_stack.astype('uint16')\n",
    "for i_file, file in enumerate(pm['filename']):\n",
    "    tif = skimage.io.imread(data_dir / img_dir / (file + 'f').replace('488', '561'))\n",
    "    img_stack[i_file, :, :] = tif\n",
    "# img_stack \n",
    "tifffile.imwrite(data_dir / ('2022-12-15_soma_segment_soma_mask.tiff'), img_stack, metadata={'axes': 'ZYX'}, imagej=True, compression='lzw', dtype='uint16')\n",
    "# tifffile.imwrite(data_dir / ('max_projections.tiff'), img_stack, metadata={'axes': 'ZYX'}, imagej=True, compression='lzw', dtype='uint16')"
   ]
  },
  {
   "cell_type": "code",
   "execution_count": null,
   "metadata": {},
   "outputs": [],
   "source": [
    "img_stack = np.zeros((pm.shape[0], 1024, 1024))"
   ]
  },
  {
   "cell_type": "code",
   "execution_count": null,
   "metadata": {},
   "outputs": [
    {
     "data": {
      "text/plain": [
       "[<matplotlib.lines.Line2D at 0x7fedbf95be20>]"
      ]
     },
     "execution_count": 72,
     "metadata": {},
     "output_type": "execute_result"
    },
    {
     "data": {
      "image/png": "[encoded data removed]",
      "text/plain": [
       "<Figure size 432x288 with 1 Axes>"
      ]
     },
     "metadata": {
      "needs_background": "light"
     },
     "output_type": "display_data"
    }
   ],
   "source": [
    "wells = np.arange(4,60,10)\n",
    "data = pd.read_csv(data_dir / '2022-12-12_tdp43_analysis'/'2022-12-12_tdp43_analysisImage.csv')\n",
    "nuclei = data.iloc[wells,]['Mean_nuclei_Intensity_MeanIntensity_pTDP43_corrected']\n",
    "soma = data.iloc[wells,]['Mean_cytoplasm_outlines_Intensity_MeanIntensity_pTDP43_corrected']\n",
    "plt.plot(nuclei)\n",
    "plt.plot(soma - nuclei)"
   ]
  },
  {
   "cell_type": "code",
   "execution_count": null,
   "metadata": {},
   "outputs": [
    {
     "data": {
      "text/plain": [
       "6     0.195031\n",
       "16    0.274678\n",
       "26    0.259709\n",
       "36    0.279896\n",
       "46    0.307797\n",
       "56    0.308027\n",
       "Name: Mean_nuclei_Intensity_MeanIntensity_TDP43_corrected, dtype: float64"
      ]
     },
     "execution_count": 63,
     "metadata": {},
     "output_type": "execute_result"
    }
   ],
   "source": [
    "nuclei"
   ]
  },
  {
   "cell_type": "code",
   "execution_count": null,
   "metadata": {},
   "outputs": [
    {
     "data": {
      "text/plain": [
       "9     20221128_JSM002_DIV25001_B11_405.tif\n",
       "19    20221128_JSM002_DIV25001_C11_405.tif\n",
       "29    20221128_JSM002_DIV25001_D11_405.tif\n",
       "39    20221128_JSM002_DIV25001_E11_405.tif\n",
       "49    20221128_JSM002_DIV25001_F11_405.tif\n",
       "59    20221128_JSM002_DIV25001_G11_405.tif\n",
       "Name: FileName_DAPI, dtype: object"
      ]
     },
     "execution_count": 68,
     "metadata": {},
     "output_type": "execute_result"
    }
   ],
   "source": [
    "data.iloc[np.arange(9,60,10),]['FileName_DAPI']"
   ]
  },
  {
   "cell_type": "code",
   "execution_count": null,
   "metadata": {},
   "outputs": [
    {
     "data": {
      "text/plain": [
       "[0, 10, 20, 30, 40, 50]"
      ]
     },
     "execution_count": 45,
     "metadata": {},
     "output_type": "execute_result"
    }
   ],
   "source": [
    "np.arange(0,60,10).tolist()"
   ]
  },
  {
   "cell_type": "code",
   "execution_count": null,
   "metadata": {},
   "outputs": [],
   "source": []
  }
 ],
 "metadata": {
  "kernelspec": {
   "display_name": "Python 3.8.13 ('cell-imaging-2')",
   "language": "python",
   "name": "python3"
  },
  "language_info": {
   "codemirror_mode": {
    "name": "ipython",
    "version": 3
   },
   "file_extension": ".py",
   "mimetype": "text/x-python",
   "name": "python",
   "nbconvert_exporter": "python",
   "pygments_lexer": "ipython3",
   "version": "3.8.13"
  },
  "orig_nbformat": 4,
  "vscode": {
   "interpreter": {
    "hash": "fba27436bb63796fa6bc4f10b8695e7baee9656fb9c163000882f8bf29692921"
   }
  }
 },
 "nbformat": 4,
 "nbformat_minor": 2
}
