{
 "cells": [
  {
   "cell_type": "code",
   "execution_count": null,
   "metadata": {},
   "outputs": [],
   "source": [
    "import skimage\n",
    "import tifffile\n",
    "import numpy as np\n",
    "import pandas as pd\n",
    "import matplotlib.pyplot as plt\n",
    "import seaborn as sns\n",
    "from pathlib import Path\n",
    "import os"
   ]
  },
  {
   "cell_type": "code",
   "execution_count": null,
   "metadata": {},
   "outputs": [],
   "source": [
    "data_dir = Path('/Users/asa.barthmaron/Desktop/1__2023-02-27T21_51_31-Measurement 5/Images')\n",
    "# test_dir = Path('/Users/asa.barthmaron/Desktop')"
   ]
  },
  {
   "cell_type": "code",
   "execution_count": null,
   "metadata": {},
   "outputs": [],
   "source": [
    "fov_prefixes = np.sort(np.unique([f.name[:9] for f in data_dir.glob('*.tiff')]))\n",
    "channels = np.sort(np.unique([f.name[13:16] for f in data_dir.glob('*.tiff')]))"
   ]
  },
  {
   "cell_type": "code",
   "execution_count": null,
   "metadata": {},
   "outputs": [],
   "source": [
    "for prefix in fov_prefixes:\n",
    "    for ch in channels:\n",
    "\n",
    "        z_section_files = [x.name for x in \n",
    "                           data_dir.glob(prefix + '*' + ch +'*')]\n",
    "        z_section_files = np.sort(z_section_files)\n",
    "\n",
    "        img_stack = np.zeros((z_section_files.shape[0], 1080, 1080))\n",
    "        img_stack = img_stack.astype('uint16')\n",
    "\n",
    "        for i_f, f in enumerate(z_section_files):\n",
    "            tif = skimage.io.imread(data_dir / f)\n",
    "            img_stack[i_f, :, :] = tif\n",
    "\n",
    "        mip = img_stack.max(axis=0)\n",
    "        # skimage.io.imsave(data_dir.parents[0] / 'MIPs' / z_section_files[0], mip)\n",
    "        skimage.io.imsave(data_dir / z_section_files[0], mip)\n",
    "        for file in z_section_files[1:]:\n",
    "            os.remove(data_dir / file)"
   ]
  },
  {
   "cell_type": "code",
   "execution_count": null,
   "metadata": {},
   "outputs": [],
   "source": [
    "data_dir = Path('/Volumes/Lab$/ABM/2023-02-14_DIV11_NGN2_HOECHST_TDP-43_MAP2/DIV11__2023-02-15T11_31_26-Measurement 1/MIPs')\n",
    "fov_prefixes = np.sort(np.unique([f.name[:9] for f in data_dir.glob('*.tiff')]))"
   ]
  },
  {
   "cell_type": "code",
   "execution_count": null,
   "metadata": {},
   "outputs": [],
   "source": [
    "# channels = ['405', '488', '561', '647']\n",
    "channels = ['ch3', 'ch1']\n",
    "\n",
    "for prefix in fov_prefixes[30:]:\n",
    "    img_stack = np.zeros((2, 1080, 1080))\n",
    "    img_stack = img_stack.astype('uint16')\n",
    "    for i_ch, ch in enumerate(channels):\n",
    "\n",
    "        file = [f.name for f in data_dir.glob(prefix + '*' + ch +'*')][0]\n",
    "        tif = skimage.io.imread(data_dir / file)\n",
    "        tif = tif - tif.mean()\n",
    "        tif = tif / tif.std()\n",
    "        tif = tif - tif.min()\n",
    "        tif = tif * 2e3\n",
    "        # tif = tif - tif.min()\n",
    "        # tif = tif / tif.max()\n",
    "        img_stack[i_ch, :, :] = tif\n",
    "\n",
    "    tifffile.imwrite(data_dir / 'cellpose' / file, \n",
    "                        img_stack, metadata={'axes': 'CYX'}, \n",
    "                        imagej=True, compression=None, dtype='uint16')\n",
    "        # skimage.io.imsave(mip_dir / (prefix + ch + '.tif'), mip)"
   ]
  }
 ],
 "metadata": {
  "kernelspec": {
   "display_name": "apical",
   "language": "python",
   "name": "python3"
  },
  "language_info": {
   "codemirror_mode": {
    "name": "ipython",
    "version": 3
   },
   "file_extension": ".py",
   "mimetype": "text/x-python",
   "name": "python",
   "nbconvert_exporter": "python",
   "pygments_lexer": "ipython3",
   "version": "3.9.15"
  },
  "orig_nbformat": 4,
  "vscode": {
   "interpreter": {
    "hash": "5906617d791b37850441308f689fb5c677d0397f6709afcca8f00adff281e5b8"
   }
  }
 },
 "nbformat": 4,
 "nbformat_minor": 2
}
