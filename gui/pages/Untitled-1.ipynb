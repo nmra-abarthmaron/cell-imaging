{
 "cells": [
  {
   "cell_type": "code",
   "execution_count": 2,
   "metadata": {},
   "outputs": [
    {
     "name": "stderr",
     "output_type": "stream",
     "text": [
      "/home/ubuntu/miniconda3/envs/cell-imaging-2/lib/python3.8/site-packages/tqdm/auto.py:22: TqdmWarning: IProgress not found. Please update jupyter and ipywidgets. See https://ipywidgets.readthedocs.io/en/stable/user_install.html\n",
      "  from .autonotebook import tqdm as notebook_tqdm\n"
     ]
    }
   ],
   "source": [
    "import pandas as pd\n",
    "import numpy.matlib as np\n",
    "from sklearn.decomposition import PCA\n",
    "from sklearn.manifold import TSNE\n",
    "import umap\n",
    "from process.cp_image_data import cp_image_data\n",
    "from process.compile_object_data import compile_object_data\n",
    "import pathlib\n",
    "\n",
    "import matplotlib.pyplot as plt\n",
    "\n",
    "from process.cp_image_data import cp_image_data\n",
    "from process.compile_object_data import compile_object_data"
   ]
  },
  {
   "cell_type": "code",
   "execution_count": 3,
   "metadata": {},
   "outputs": [],
   "source": [
    "exp_path = pathlib.Path('/fsx/processed-data')\n",
    "exps = np.array([x.name for x in exp_path.iterdir() if x.is_dir()])\n",
    "drop_columns = pd.read_csv('/fsx/processed-data/220811 96w 9 Gene KO /2022-08-22_soma_objects/2022-08-30_soma_objects_image_column_drop_list.csv', header=None, dtype=str)"
   ]
  },
  {
   "cell_type": "code",
   "execution_count": 4,
   "metadata": {},
   "outputs": [
    {
     "name": "stderr",
     "output_type": "stream",
     "text": [
      "/home/ubuntu/cell-imaging/process/compile_object_data.py:31: FutureWarning: The default value of numeric_only in DataFrame.mean is deprecated. In a future version, it will default to False. In addition, specifying 'numeric_only=None' is deprecated. Select only valid columns or specify the value of numeric_only to silence this warning.\n",
      "  data.loc[i] = soma_data.loc[i].mean(axis=0)\n",
      "/home/ubuntu/cell-imaging/process/compile_object_data.py:57: FutureWarning: The default value of numeric_only in DataFrame.mean is deprecated. In a future version, it will default to False. In addition, specifying 'numeric_only=None' is deprecated. Select only valid columns or specify the value of numeric_only to silence this warning.\n",
      "  data = data - data.mean(axis=0)\n",
      "/home/ubuntu/miniconda3/envs/cell-imaging-2/lib/python3.8/site-packages/sklearn/manifold/_t_sne.py:996: FutureWarning: The PCA initialization in TSNE will change to have the standard deviation of PC1 equal to 1e-4 in 1.2. This will ensure better convergence.\n",
      "  warnings.warn(\n"
     ]
    }
   ],
   "source": [
    "analysis_name = '2022-10-17_soma_objects_CellVis'\n",
    "exp_name = '220929 CellVis Plastic 20x SD MIP TIFs'\n",
    "\n",
    "pm = pd.read_csv(exp_path / exp_name / 'platemap.csv')\n",
    "data_path = exp_path / exp_name / analysis_name /  (analysis_name + '_soma.csv')\n",
    "embedded_data = compile_object_data(data_path, pm, drop_columns)\n"
   ]
  },
  {
   "cell_type": "code",
   "execution_count": 5,
   "metadata": {},
   "outputs": [],
   "source": [
    "# data = pd.read_csv('/fsx/processed-data/220929 Mattek 20x SD MIP TIFs/2022-10-11_soma_objects/2022-10-11_soma_objects_Image.csv')\n",
    "data = pd.read_csv('/fsx/processed-data/220929 CellVis Plastic 20x SD MIP TIFs/2022-10-17_soma_objects_CellVis/2022-10-17_soma_objects_CellVis_Image.csv')\n",
    "data.index = pm['filename']"
   ]
  },
  {
   "cell_type": "code",
   "execution_count": null,
   "metadata": {},
   "outputs": [],
   "source": [
    "data.columns.tolist()"
   ]
  },
  {
   "cell_type": "code",
   "execution_count": null,
   "metadata": {},
   "outputs": [],
   "source": [
    "data['FileName_TMRM'][13][21:23]"
   ]
  },
  {
   "cell_type": "code",
   "execution_count": 61,
   "metadata": {},
   "outputs": [
    {
     "data": {
      "text/plain": [
       "'02'"
      ]
     },
     "execution_count": 61,
     "metadata": {},
     "output_type": "execute_result"
    }
   ],
   "source": [
    "fname[11:13]"
   ]
  },
  {
   "cell_type": "code",
   "execution_count": 16,
   "metadata": {},
   "outputs": [],
   "source": [
    "measurement = 'Median_soma_Intensity_MeanIntensity_CellROX'\n",
    "# measurement = 'Count_soma'\n",
    "row_lookup = dict(zip('ABCDEFGH', [0, 1, 2, 3, 4, 5, 6, 7]))\n",
    "plate = np.zeros((8,12))\n",
    "for fname in data.index:\n",
    "    row = row_lookup[fname[10]]\n",
    "    row = row_lookup[fname[10]]\n",
    "    col = int(fname[11:13]) - 1\n",
    "    plate[row, col] = data.loc[fname][measurement]\n",
    "# plate = plate - plate[:,10:].mean()\n",
    "# baseline = plate[:,9]\n",
    "# baseline.shape = [baseline.shape[0], 1]\n",
    "# plate = plate / baseline\n",
    "# plate = np.delete(plate, [10, 11], axis=1)"
   ]
  },
  {
   "cell_type": "code",
   "execution_count": 17,
   "metadata": {},
   "outputs": [
    {
     "data": {
      "text/plain": [
       "Text(0.5, 1.0, '220929 CellVis Plastic 20x SD MIP TIFs\\nMedian_soma_Intensity_MeanIntensity_CellROX')"
      ]
     },
     "execution_count": 17,
     "metadata": {},
     "output_type": "execute_result"
    },
    {
     "data": {
      "image/png": "[encoded data removed]",
      "text/plain": [
       "<Figure size 432x288 with 2 Axes>"
      ]
     },
     "metadata": {
      "needs_background": "light"
     },
     "output_type": "display_data"
    }
   ],
   "source": [
    "fig = plt.figure()\n",
    "plt.imshow(plate)\n",
    "plt.yticks(list(row_lookup.values()), list(row_lookup.keys()))\n",
    "plt.xticks([0,1,2,3,4,5,6,7,8,9,10,11], [1,2,3,4,5,6,7,8,9,10,11,12])\n",
    "plt.colorbar()\n",
    "plt.title(exp_name +'\\n' + measurement)\n",
    "# fig.savefig('/fsx/processed-data/exp_name/2022-10-17_plate_heatmap.png')\n",
    "# plate.to_csv('/fsx/processed-data/exp_name/2022-10-17_plate_heatmap.csv')"
   ]
  },
  {
   "cell_type": "code",
   "execution_count": null,
   "metadata": {},
   "outputs": [],
   "source": [
    "exp_name"
   ]
  },
  {
   "cell_type": "code",
   "execution_count": null,
   "metadata": {},
   "outputs": [],
   "source": [
    "morphology_file = 'FileName_TMRM'\n",
    "\n",
    "# Load processed cellprofiler soma data from csv\n",
    "soma_data = pd.read_csv(data_path)\n",
    "soma_data.index = soma_data['ImageNumber']\n",
    "path_parts = list(data_path.parts)\n",
    "path_parts[-1] = path_parts[-1].replace('_soma.csv', '_Image.csv')\n",
    "data_path = pathlib.Path(*path_parts)\n",
    "image_data = pd.read_csv(data_path)\n",
    "image_data.index = image_data['ImageNumber']\n",
    "\n",
    "# Convert from per-soma measuremnt to per-image measurements\n",
    "data = pd.DataFrame(data = 0, index=image_data.index, columns=soma_data.columns)\n",
    "# print(image_data.index) \n",
    "for i in image_data.index:\n",
    "    data.loc[i] = soma_data.loc[i].mean(axis=0)\n",
    "\n",
    "# Set index to well name\n",
    "data.index = image_data[morphology_file]\n",
    "\n",
    "# Remove unwanted columns\n",
    "drop_columns = np.array(drop_columns).astype(str).flatten()\n",
    "for col in drop_columns:\n",
    "    data = data.drop(data.columns[data.columns.str.contains(col)], axis=1)\n",
    "# print(data.head())\n",
    "# print(pm.head())\n",
    "# Reindex data by platemap filenames to make sure row order is correct\n",
    "pm.index = pm['filename']\n",
    "data = data.reindex(pm.index)\n",
    "\n",
    "# Set conditions to index\n",
    "data.index = pm['condition']\n",
    "pm.index = pm['condition']\n",
    "# Also add as column to data (for stats model)\n",
    "data['condition'] = data.index\n",
    "\n",
    "# Remove 'no_dye' condition\n",
    "if 'no_dye' in data.index:\n",
    "    data = data.drop('no_dye', axis=0)\n",
    "    pm = pm.drop('no_dye', axis=0)"
   ]
  },
  {
   "cell_type": "code",
   "execution_count": null,
   "metadata": {},
   "outputs": [],
   "source": [
    "data[measurement]"
   ]
  },
  {
   "cell_type": "code",
   "execution_count": null,
   "metadata": {},
   "outputs": [],
   "source": [
    "soma_data.loc[i]"
   ]
  },
  {
   "cell_type": "code",
   "execution_count": null,
   "metadata": {},
   "outputs": [],
   "source": []
  }
 ],
 "metadata": {
  "kernelspec": {
   "display_name": "Python 3.8.13 ('cell-imaging-2')",
   "language": "python",
   "name": "python3"
  },
  "language_info": {
   "codemirror_mode": {
    "name": "ipython",
    "version": 3
   },
   "file_extension": ".py",
   "mimetype": "text/x-python",
   "name": "python",
   "nbconvert_exporter": "python",
   "pygments_lexer": "ipython3",
   "version": "3.8.13"
  },
  "orig_nbformat": 4,
  "vscode": {
   "interpreter": {
    "hash": "fba27436bb63796fa6bc4f10b8695e7baee9656fb9c163000882f8bf29692921"
   }
  }
 },
 "nbformat": 4,
 "nbformat_minor": 2
}
